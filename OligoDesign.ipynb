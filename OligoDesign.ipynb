{
 "cells": [
  {
   "cell_type": "markdown",
   "metadata": {},
   "source": [
    "## Instruction\n",
    "### Installation of BLAST \n",
    "Install NCBI standalone BLAST from (https://blast.ncbi.nlm.nih.gov/Blast.cgi?CMD=Web&PAGE_TYPE=BlastDocs&DOC_TYPE=Download). \\\n",
    "Set the path to the BLAST.\n",
    "\n",
    "### Make database\n",
    "Download a fast file containing the transcriptome of your species. The example link is (http://useast.ensembl.org/info/data/ftp/index.html). \\\n",
    "The file is used to minimize the non-specific binding of oligonucleotides. \\\n",
    "Make a local database from the file according to (https://www.ncbi.nlm.nih.gov/books/NBK569841/). \\\n",
    "Example databases are included in ./data/ . Only database with ensemple transcript ID is accepted.\n",
    "\n",
    "### Download \n",
    "Download the fasta file of mRNA of your interest from NCBI.\n",
    "The example file is included in ./data/slc17a7/"
   ]
  },
  {
   "cell_type": "code",
   "execution_count": null,
   "metadata": {},
   "outputs": [],
   "source": [
    "import pandas as pd\n",
    "\n",
    "from oligodesigner import blockParse_py3\n",
    "from oligodesigner import io\n",
    "from oligodesigner import parse\n",
    "from oligodesigner import sequence\n",
    "from oligodesigner import parameters\n",
    "from oligodesigner import oligodesigner"
   ]
  },
  {
   "cell_type": "code",
   "execution_count": null,
   "metadata": {},
   "outputs": [],
   "source": [
    "# paths to the example databases.\n",
    "cdna_database = {\n",
    "                 'human': './data/human_transcriptome/human_transcriptome_db',\n",
    "                 'mouse': './data/mouse_transcriptome/mouse_transcriptome_db',\n",
    "                 'rat'  : './data/rat_transcriptome/rat_transcriptome_db'\n",
    "}"
   ]
  },
  {
   "cell_type": "code",
   "execution_count": null,
   "metadata": {},
   "outputs": [],
   "source": [
    "# Parameter settings\n",
    "mFISH3D_param = {\n",
    "    'fasta':'path_to_fasta',\n",
    "    'database':cdna_database['mouse'],\n",
    "    'minimum_offtarget_gap':100,\n",
    "    'hcr_seqs':parameters.hcr_one_side['B1'], # B1-5,8\n",
    "    'self_remove': True # set this True if your template sequence appears in database.\n",
    "}\n",
    "\n",
    "\n",
    "oligominer_param = {\n",
    "    'l':20,\n",
    "    'L':20,\n",
    "    'gcPercent':25,\n",
    "    'GCPercent':75,\n",
    "    'tm':0,\n",
    "    'TM':100,\n",
    "    'X':'AAAAAA,TTTTTT,CCCCCC,GGGGGG',\n",
    "    'sal':390,\n",
    "    'form':30,\n",
    "    'sp':1,\n",
    "    'concA':25,\n",
    "    'concB':25,\n",
    "    'headerVal':None,\n",
    "    'bedVal':False,\n",
    "    'OverlapModeVal':False,\n",
    "    'verbocity':False,\n",
    "    'reportVal':True,\n",
    "    'debugVal':False,\n",
    "    'metaVal':False,\n",
    "    'outNameVal':None,\n",
    "    'nn_table':'DNA_NN3'\n",
    "}"
   ]
  },
  {
   "cell_type": "code",
   "execution_count": null,
   "metadata": {},
   "outputs": [],
   "source": [
    "res = oligodesigner.generator(mFISH3D_param, oligominer_param)\n",
    "res"
   ]
  },
  {
   "cell_type": "code",
   "execution_count": null,
   "metadata": {},
   "outputs": [],
   "source": []
  }
 ],
 "metadata": {
  "kernelspec": {
   "display_name": "oligo",
   "language": "python",
   "name": "oligo"
  },
  "language_info": {
   "codemirror_mode": {
    "name": "ipython",
    "version": 3
   },
   "file_extension": ".py",
   "mimetype": "text/x-python",
   "name": "python",
   "nbconvert_exporter": "python",
   "pygments_lexer": "ipython3",
   "version": "3.8.13"
  }
 },
 "nbformat": 4,
 "nbformat_minor": 4
}
